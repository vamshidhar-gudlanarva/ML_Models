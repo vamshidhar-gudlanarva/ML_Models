{
 "cells": [
  {
   "cell_type": "code",
   "execution_count": 1,
   "id": "a21952d1-f8ed-4b7f-9817-e5fb255f6f13",
   "metadata": {},
   "outputs": [],
   "source": [
    "import pandas as pd\n",
    "import numpy as np\n",
    "import matplotlib.pyplot as plt\n",
    "import seaborn as sns\n",
    "from sklearn.model_selection import train_test_split\n",
    "from sklearn.linear_model import LinearRegression, Ridge, Lasso, ElasticNet\n",
    "from sklearn.preprocessing import OneHotEncoder\n",
    "from sklearn.metrics import mean_squared_error, r2_score"
   ]
  },
  {
   "cell_type": "code",
   "execution_count": 2,
   "id": "fcd5fe78-e6d5-4dec-8dca-0440b2cc44e0",
   "metadata": {},
   "outputs": [],
   "source": [
    "df = pd.read_csv('car data.csv')"
   ]
  },
  {
   "cell_type": "code",
   "execution_count": 3,
   "id": "c3b0a171-f4b1-4f21-9e49-3195653a3fc5",
   "metadata": {},
   "outputs": [
    {
     "data": {
      "text/html": [
       "<div>\n",
       "<style scoped>\n",
       "    .dataframe tbody tr th:only-of-type {\n",
       "        vertical-align: middle;\n",
       "    }\n",
       "\n",
       "    .dataframe tbody tr th {\n",
       "        vertical-align: top;\n",
       "    }\n",
       "\n",
       "    .dataframe thead th {\n",
       "        text-align: right;\n",
       "    }\n",
       "</style>\n",
       "<table border=\"1\" class=\"dataframe\">\n",
       "  <thead>\n",
       "    <tr style=\"text-align: right;\">\n",
       "      <th></th>\n",
       "      <th>Car_Name</th>\n",
       "      <th>Year</th>\n",
       "      <th>Selling_Price</th>\n",
       "      <th>Present_Price</th>\n",
       "      <th>Kms_Driven</th>\n",
       "      <th>Fuel_Type</th>\n",
       "      <th>Seller_Type</th>\n",
       "      <th>Transmission</th>\n",
       "      <th>Owner</th>\n",
       "    </tr>\n",
       "  </thead>\n",
       "  <tbody>\n",
       "    <tr>\n",
       "      <th>0</th>\n",
       "      <td>ritz</td>\n",
       "      <td>2014</td>\n",
       "      <td>3.35</td>\n",
       "      <td>5.59</td>\n",
       "      <td>27000</td>\n",
       "      <td>Petrol</td>\n",
       "      <td>Dealer</td>\n",
       "      <td>Manual</td>\n",
       "      <td>0</td>\n",
       "    </tr>\n",
       "    <tr>\n",
       "      <th>1</th>\n",
       "      <td>sx4</td>\n",
       "      <td>2013</td>\n",
       "      <td>4.75</td>\n",
       "      <td>9.54</td>\n",
       "      <td>43000</td>\n",
       "      <td>Diesel</td>\n",
       "      <td>Dealer</td>\n",
       "      <td>Manual</td>\n",
       "      <td>0</td>\n",
       "    </tr>\n",
       "    <tr>\n",
       "      <th>2</th>\n",
       "      <td>ciaz</td>\n",
       "      <td>2017</td>\n",
       "      <td>7.25</td>\n",
       "      <td>9.85</td>\n",
       "      <td>6900</td>\n",
       "      <td>Petrol</td>\n",
       "      <td>Dealer</td>\n",
       "      <td>Manual</td>\n",
       "      <td>0</td>\n",
       "    </tr>\n",
       "    <tr>\n",
       "      <th>3</th>\n",
       "      <td>wagon r</td>\n",
       "      <td>2011</td>\n",
       "      <td>2.85</td>\n",
       "      <td>4.15</td>\n",
       "      <td>5200</td>\n",
       "      <td>Petrol</td>\n",
       "      <td>Dealer</td>\n",
       "      <td>Manual</td>\n",
       "      <td>0</td>\n",
       "    </tr>\n",
       "    <tr>\n",
       "      <th>4</th>\n",
       "      <td>swift</td>\n",
       "      <td>2014</td>\n",
       "      <td>4.60</td>\n",
       "      <td>6.87</td>\n",
       "      <td>42450</td>\n",
       "      <td>Diesel</td>\n",
       "      <td>Dealer</td>\n",
       "      <td>Manual</td>\n",
       "      <td>0</td>\n",
       "    </tr>\n",
       "  </tbody>\n",
       "</table>\n",
       "</div>"
      ],
      "text/plain": [
       "  Car_Name  Year  Selling_Price  Present_Price  Kms_Driven Fuel_Type  \\\n",
       "0     ritz  2014           3.35           5.59       27000    Petrol   \n",
       "1      sx4  2013           4.75           9.54       43000    Diesel   \n",
       "2     ciaz  2017           7.25           9.85        6900    Petrol   \n",
       "3  wagon r  2011           2.85           4.15        5200    Petrol   \n",
       "4    swift  2014           4.60           6.87       42450    Diesel   \n",
       "\n",
       "  Seller_Type Transmission  Owner  \n",
       "0      Dealer       Manual      0  \n",
       "1      Dealer       Manual      0  \n",
       "2      Dealer       Manual      0  \n",
       "3      Dealer       Manual      0  \n",
       "4      Dealer       Manual      0  "
      ]
     },
     "execution_count": 3,
     "metadata": {},
     "output_type": "execute_result"
    }
   ],
   "source": [
    "df.head()"
   ]
  },
  {
   "cell_type": "code",
   "execution_count": 4,
   "id": "6055d716-fc98-4d06-924b-0b0b0875a5a1",
   "metadata": {},
   "outputs": [],
   "source": [
    "df['Present_Price'].fillna(df['Present_Price'].median(), inplace=True)\n",
    "df['Kms_Driven'].fillna(df['Kms_Driven'].median(), inplace=True)\n",
    "df['Fuel_Type'].fillna(df['Fuel_Type'].mode()[0], inplace=True)\n",
    "df['Seller_Type'].fillna(df['Seller_Type'].mode()[0], inplace=True)\n",
    "df['Transmission'].fillna(df['Transmission'].mode()[0], inplace=True)\n",
    "df['Owner'].fillna(df['Owner'].mode()[0], inplace=True)"
   ]
  },
  {
   "cell_type": "code",
   "execution_count": 5,
   "id": "51f5925f-b8d5-4643-a0a8-08196a410f58",
   "metadata": {},
   "outputs": [],
   "source": [
    "df = pd.get_dummies(df, columns=['Fuel_Type', 'Seller_Type', 'Transmission'], drop_first=True)\n"
   ]
  },
  {
   "cell_type": "code",
   "execution_count": 6,
   "id": "e881bb82-64f1-4a1e-a3c4-d2796fa66f2b",
   "metadata": {},
   "outputs": [],
   "source": [
    "X = df.drop(['Car_Name', 'Selling_Price'], axis=1)\n",
    "y = df['Selling_Price']"
   ]
  },
  {
   "cell_type": "code",
   "execution_count": 7,
   "id": "e66ed4d7-1b79-4b54-a0c9-ecbf78852cc1",
   "metadata": {},
   "outputs": [],
   "source": [
    "X_train, X_test, y_train, y_test = train_test_split(X, y, test_size=0.2, random_state=42)\n"
   ]
  },
  {
   "cell_type": "code",
   "execution_count": 10,
   "id": "7dc3b5c8-7447-4974-84d2-c42f47226bee",
   "metadata": {},
   "outputs": [
    {
     "name": "stdout",
     "output_type": "stream",
     "text": [
      "[ 2.95534303  8.178939    6.45427257 -1.42417501  9.08889914  7.41825441\n",
      "  1.33644285  0.84027217  1.36501949  7.49026806  9.11830017  0.58573931\n",
      "  8.41612774  3.42316502  6.90043281  3.04988309  0.48448171 10.70970753\n",
      "  1.75207005  2.34571752  0.39746889  8.11925338  6.62469317  2.65939066\n",
      "  0.78280554  3.69330765  5.24815462  2.82676351  2.13640446  1.75237686\n",
      "  0.39730155  9.11750503 -0.66188053  2.29098014  8.57067341  4.4910324\n",
      "  7.20530369  7.53824015  2.89101139  7.93588794  3.93585154  4.27133211\n",
      "  4.33205704  0.6008847   7.34025071  0.47602539  7.29187681 11.23125597\n",
      "  3.13805132  5.38262985  6.7988422   2.17888955 20.63303305 17.0015261\n",
      "  7.50717349  9.69621308  4.47478116  8.97377615  1.82294639  7.60416734\n",
      "  0.22226536]\n"
     ]
    }
   ],
   "source": [
    "lm = LinearRegression()\n",
    "lm.fit(X_train, y_train)\n",
    "y_pred_lm = lm.predict(X_test)\n",
    "print (y_pred_lm)"
   ]
  },
  {
   "cell_type": "code",
   "execution_count": 12,
   "id": "5a390e65-7b8a-48cb-9ab1-43808c6f85c3",
   "metadata": {},
   "outputs": [
    {
     "name": "stdout",
     "output_type": "stream",
     "text": [
      "[ 2.90131068  8.1952302   6.40362854 -1.36836337  9.11434327  7.37421664\n",
      "  1.35764312  0.85271316  1.38499155  7.44607969  9.08100851  0.60071291\n",
      "  8.34504386  3.36861757  6.85083764  3.03819298  0.49270168 10.74458995\n",
      "  1.77481436  2.37104455  0.40643217  8.07629357  6.56908038  2.63252558\n",
      "  0.79863141  3.67832663  5.25022673  2.80620724  2.16239525  1.77597345\n",
      "  0.40715548  9.08880963 -0.66078336  2.26625138  8.53615246  4.48417049\n",
      "  7.22459399  7.55266691  2.87649418  7.95169019  3.92278013  4.18534026\n",
      "  4.32050627  0.61921745  7.29366985  0.49000203  7.30591698 11.18954159\n",
      "  3.11928402  5.32267143  6.71982939  2.20364164 20.59580165 16.93403212\n",
      "  7.46800235  9.64016349  4.46224828  8.94008969  1.79074242  7.52985982\n",
      "  0.23400587]\n"
     ]
    }
   ],
   "source": [
    "ridge = Ridge(alpha=1)\n",
    "ridge.fit(X_train, y_train)\n",
    "y_pred_ridge = ridge.predict(X_test)\n",
    "print (y_pred_ridge)"
   ]
  },
  {
   "cell_type": "code",
   "execution_count": 13,
   "id": "8a6a05a5-90f7-4b90-8ca8-78e5d83d6746",
   "metadata": {},
   "outputs": [
    {
     "name": "stdout",
     "output_type": "stream",
     "text": [
      "[ 2.06198099  8.52820795  5.78235553 -0.3259443   9.61700926  6.79762267\n",
      "  1.70548486  1.09632734  1.70103854  6.88246407  8.55083011  0.89395279\n",
      "  7.37080891  2.5071117   6.22871027  3.03610756  0.70896024 11.31533687\n",
      "  2.11351054  2.74480675  0.61779453  7.49918311  5.88004373  2.45378996\n",
      "  1.08839481  3.64628569  5.43521512  2.71342237  2.54525255  2.14133384\n",
      "  0.6306575   8.73598922 -0.51124977  2.1618614   8.07396034  4.53251446\n",
      "  7.64381663  7.96571303  2.83591191  8.36834513  4.02204463  3.1593391\n",
      "  4.30497751  0.94319165  6.68243135  0.76967856  7.63851261 10.67515669\n",
      "  3.020716    4.57468962  5.65294257  2.56960578 19.96260987 15.85910058\n",
      "  6.9577202   8.84045664  4.41825287  8.48917883  1.61466784  6.48177823\n",
      "  0.48326233]\n"
     ]
    }
   ],
   "source": [
    "lasso = Lasso(alpha=0.1)\n",
    "lasso.fit(X_train, y_train)\n",
    "y_pred_lasso = lasso.predict(X_test)\n",
    "print (y_pred_lasso)"
   ]
  },
  {
   "cell_type": "code",
   "execution_count": 14,
   "id": "af8ff12b-b030-4e01-8f3e-e8dba77f79ec",
   "metadata": {},
   "outputs": [
    {
     "name": "stdout",
     "output_type": "stream",
     "text": [
      "[ 2.24570869  8.45899647  5.88194237 -0.51363214  9.51200313  6.89626371\n",
      "  1.65091214  1.05702633  1.65408488  6.97655591  8.64780596  0.84420008\n",
      "  7.55361895  2.69660212  6.33052721  3.01856256  0.6697178  11.20745857\n",
      "  2.06491349  2.69003174  0.58176621  7.59984898  5.99079829  2.46114787\n",
      "  1.04145394  3.63099603  5.38527815  2.70639085  2.48908772  2.08595393\n",
      "  0.59261074  8.79407891 -0.54342492  2.15002576  8.15525398  4.50809018\n",
      "  7.55378714  7.86711943  2.82486095  8.27126789  3.9683366   3.32969082\n",
      "  4.29126672  0.8906688   6.78687857  0.7222453   7.56518551 10.7704615\n",
      "  3.01916211  4.69597203  5.8497555   2.51622501 20.10243097 16.0791951\n",
      "  7.04528319  8.99819613  4.41154096  8.56836082  1.61032727  6.68204038\n",
      "  0.44103565]\n"
     ]
    }
   ],
   "source": [
    "elasticnet = ElasticNet(alpha=0.1, l1_ratio=0.5)\n",
    "elasticnet.fit(X_train, y_train)\n",
    "y_pred_elasticnet = elasticnet.predict(X_test)\n",
    "print(y_pred_elasticnet)"
   ]
  },
  {
   "cell_type": "code",
   "execution_count": 15,
   "id": "d2ee5e7e-5d14-4c6b-ada9-aa9d69570a59",
   "metadata": {},
   "outputs": [],
   "source": [
    "def evaluate_model(y_true, y_pred):\n",
    "    sse = np.sum((y_true - y_pred) ** 2)\n",
    "    mse = mean_squared_error(y_true, y_pred)\n",
    "    rmse = np.sqrt(mse)\n",
    "    r2 = r2_score(y_true, y_pred)\n",
    "    return sse, mse, rmse, r2"
   ]
  },
  {
   "cell_type": "code",
   "execution_count": 16,
   "id": "bcd21c8c-0457-492f-b32f-d832612858d5",
   "metadata": {},
   "outputs": [],
   "source": [
    "sse_lm, mse_lm, rmse_lm, r2_lm = evaluate_model(y_test, y_pred_lm)\n",
    "sse_ridge, mse_ridge, rmse_ridge, r2_ridge = evaluate_model(y_test, y_pred_ridge)\n",
    "sse_lasso, mse_lasso, rmse_lasso, r2_lasso = evaluate_model(y_test, y_pred_lasso)\n",
    "sse_elasticnet, mse_elasticnet, rmse_elasticnet, r2_elasticnet = evaluate_model(y_test, y_pred_elasticnet)\n"
   ]
  },
  {
   "cell_type": "code",
   "execution_count": 17,
   "id": "b2f52fdb-946c-41f7-80a4-f77fa18bd28e",
   "metadata": {},
   "outputs": [
    {
     "name": "stdout",
     "output_type": "stream",
     "text": [
      "Linear Regression - SSE: 212.20704220950904, RMSE: 1.8651552135540057, R2: 0.8489813024894818\n",
      "Ridge Regression - SSE: 210.61813042195126, RMSE: 1.8581593678760255, R2: 0.8501120632131489\n",
      "Lasso Regression - SSE: 212.23637256859504, RMSE: 1.865284106029555, R2: 0.8489604293243852\n",
      "ElasticNet Regression - SSE: 208.88153460104743, RMSE: 1.850483032204345, R2: 0.85134792436198\n"
     ]
    }
   ],
   "source": [
    "print(f\"Linear Regression - SSE: {sse_lm}, RMSE: {rmse_lm}, R2: {r2_lm}\")\n",
    "print(f\"Ridge Regression - SSE: {sse_ridge}, RMSE: {rmse_ridge}, R2: {r2_ridge}\")\n",
    "print(f\"Lasso Regression - SSE: {sse_lasso}, RMSE: {rmse_lasso}, R2: {r2_lasso}\")\n",
    "print(f\"ElasticNet Regression - SSE: {sse_elasticnet}, RMSE: {rmse_elasticnet}, R2: {r2_elasticnet}\")"
   ]
  },
  {
   "cell_type": "code",
   "execution_count": 18,
   "id": "53792bba-a59b-4fd1-8d2a-587dc1913f01",
   "metadata": {},
   "outputs": [
    {
     "name": "stdout",
     "output_type": "stream",
     "text": [
      "                  Feature    Linear     Ridge     Lasso  ElasticNet\n",
      "0                    Year  0.353801  0.357543  0.393413    0.389591\n",
      "1           Present_Price  0.429153  0.432180  0.473347    0.466251\n",
      "2              Kms_Driven -0.000006 -0.000006 -0.000004   -0.000004\n",
      "3                   Owner -0.903760 -0.853073 -0.000000   -0.151159\n",
      "4        Fuel_Type_Diesel  2.533273  1.673807  0.988871    0.664777\n",
      "5        Fuel_Type_Petrol  0.738464 -0.072949 -0.000000   -0.467578\n",
      "6  Seller_Type_Individual -1.190593 -1.147914 -0.634599   -0.703798\n",
      "7     Transmission_Manual -1.639022 -1.563131 -0.382037   -0.616966\n"
     ]
    }
   ],
   "source": [
    "coefficients = pd.DataFrame({\n",
    "    'Feature': X.columns,\n",
    "    'Linear': lm.coef_,\n",
    "    'Ridge': ridge.coef_,\n",
    "    'Lasso': lasso.coef_,\n",
    "    'ElasticNet': elasticnet.coef_\n",
    "})\n",
    "\n",
    "print(coefficients)\n"
   ]
  },
  {
   "cell_type": "code",
   "execution_count": 19,
   "id": "170ccfe8-ec73-4827-aca2-8d945112bb91",
   "metadata": {},
   "outputs": [
    {
     "data": {
      "image/png": "[encoded data removed]",
      "text/plain": [
       "<Figure size 1200x600 with 2 Axes>"
      ]
     },
     "metadata": {},
     "output_type": "display_data"
    }
   ],
   "source": [
    "plt.figure(figsize=(12, 6))\n",
    "plt.subplot(1, 2, 1)\n",
    "plt.scatter(y_test, y_pred_lm)\n",
    "plt.title('Linear Regression: Actual vs Predicted')\n",
    "plt.xlabel('Actual Values')\n",
    "plt.ylabel('Predicted Values')\n",
    "\n",
    "plt.subplot(1, 2, 2)\n",
    "plt.scatter(y_test, y_pred_ridge)\n",
    "plt.title('Ridge Regression: Actual vs Predicted')\n",
    "plt.xlabel('Actual Values')\n",
    "plt.ylabel('Predicted Values')\n",
    "\n",
    "plt.tight_layout()\n",
    "plt.show()"
   ]
  }
 ],
 "metadata": {
  "kernelspec": {
   "display_name": "Python 3 (ipykernel)",
   "language": "python",
   "name": "python3"
  },
  "language_info": {
   "codemirror_mode": {
    "name": "ipython",
    "version": 3
   },
   "file_extension": ".py",
   "mimetype": "text/x-python",
   "name": "python",
   "nbconvert_exporter": "python",
   "pygments_lexer": "ipython3",
   "version": "3.9.21"
  }
 },
 "nbformat": 4,
 "nbformat_minor": 5
}
